{
 "cells": [
  {
   "cell_type": "markdown",
   "id": "4c0d7463-4612-4af5-98a5-61793efe9aed",
   "metadata": {},
   "source": [
    "# Data Science Tools and Ecosystem"
   ]
  },
  {
   "cell_type": "markdown",
   "id": "771b0178-606f-43e7-ae0c-e72e728e549d",
   "metadata": {},
   "source": [
    "##### In this notebook, Data Science Tools and Ecosystem are summarized. #####\n"
   ]
  },
  {
   "cell_type": "markdown",
   "id": "f8bfbc46-6256-4c1e-9200-ee1f8a21eae3",
   "metadata": {},
   "source": [
    "**Objectives:**\n",
    "* List popular languages for Data Science\n",
    "* List commonly used libraries for Data Science\n",
    "* List popular Data Science Tools"
   ]
  },
  {
   "cell_type": "markdown",
   "id": "59a405d0-3e1f-419e-971b-6626308e3ac8",
   "metadata": {},
   "source": [
    "### Some of the popular languages that Data Scientists use are: ###"
   ]
  },
  {
   "cell_type": "markdown",
   "id": "4d8dfa2d-4c6f-4af7-86f0-3a9a1346b85f",
   "metadata": {},
   "source": [
    "1. Python\n",
    "2. R\n",
    "3. SQL"
   ]
  },
  {
   "cell_type": "markdown",
   "id": "383f1385-ab0f-4256-b216-5afafd1ebb5b",
   "metadata": {},
   "source": [
    "### Some of the commonly used libraries used by Data Scientists include: ###"
   ]
  },
  {
   "cell_type": "markdown",
   "id": "98cfb707-2fee-4366-a562-21f096beceec",
   "metadata": {},
   "source": [
    "1. pandas\n",
    "2. numpy\n",
    "3. keras\n",
    "   "
   ]
  },
  {
   "cell_type": "markdown",
   "id": "dfbfdb32-a00a-40a2-bb11-160237e1d606",
   "metadata": {},
   "source": [
    "| Data Science Tools |\n",
    "| ------------------ |\n",
    "|Jupyter Notebooks |\n",
    "| RStudio |\n",
    "| Visual Studio Code |"
   ]
  },
  {
   "cell_type": "markdown",
   "id": "435be715-dec0-46b5-87db-737d65f7b67e",
   "metadata": {},
   "source": [
    "### Below are a few examples of evaluating arithmetic expressions in Python ###"
   ]
  },
  {
   "cell_type": "code",
   "execution_count": 2,
   "id": "0b223d8a-037c-40b8-ab6e-cc6b58465671",
   "metadata": {},
   "outputs": [
    {
     "data": {
      "text/plain": [
       "17"
      ]
     },
     "execution_count": 2,
     "metadata": {},
     "output_type": "execute_result"
    }
   ],
   "source": [
    "#This a simple arithmetic expression to mutiply then add integers\n",
    "(3*4)+5"
   ]
  },
  {
   "cell_type": "code",
   "execution_count": 4,
   "id": "deca35a2-3ab2-4157-a688-3fd4be2ac37c",
   "metadata": {},
   "outputs": [
    {
     "name": "stdout",
     "output_type": "stream",
     "text": [
      "3.3333333333333335\n"
     ]
    }
   ],
   "source": [
    "#This will convert 200 minutes to hours by diving by 60\n",
    "hours = 200/60\n",
    "print(hours)"
   ]
  },
  {
   "cell_type": "markdown",
   "id": "af639f3a-7208-45f8-acf0-2e60f215dde2",
   "metadata": {},
   "source": [
    "## Author\n",
    "Ilyas"
   ]
  },
  {
   "cell_type": "code",
   "execution_count": null,
   "id": "f3326170-7d21-4831-b868-e03dc1bb3ce6",
   "metadata": {},
   "outputs": [],
   "source": []
  }
 ],
 "metadata": {
  "kernelspec": {
   "display_name": "Python 3 (ipykernel)",
   "language": "python",
   "name": "python3"
  },
  "language_info": {
   "codemirror_mode": {
    "name": "ipython",
    "version": 3
   },
   "file_extension": ".py",
   "mimetype": "text/x-python",
   "name": "python",
   "nbconvert_exporter": "python",
   "pygments_lexer": "ipython3",
   "version": "3.12.3"
  }
 },
 "nbformat": 4,
 "nbformat_minor": 5
}
